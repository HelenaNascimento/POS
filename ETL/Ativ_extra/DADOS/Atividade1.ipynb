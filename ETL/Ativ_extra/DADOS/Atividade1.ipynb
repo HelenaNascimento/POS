{
 "cells": [
  {
   "cell_type": "code",
   "execution_count": null,
   "metadata": {
    "vscode": {
     "languageId": "python"
    }
   },
   "outputs": [],
   "source": [
    "#pip install branca\n",
    "#pip install folium\n",
    "#pip install pandas\n",
    "#pip install matplotlib\n",
    "\n",
    "#branca:  https://www.kaggle.com/code/stpeteishii/branca-colormap\n",
    "#folium:  https://www.kaggle.com/code/codebreaker619/introduction-to-folium\n",
    "\n",
    "# /content/sample_data/localizacao_cidades_CE.csv\n",
    "\n",
    "\"\"\"\n",
    "importar dados do arquivo para o programa\n",
    "Dados sobre Cidades do Estado do Ceará\n",
    "Código do IBGE;\n",
    "Descrição da Cidade;\n",
    "Posição Longitude e;\n",
    "Posição Latitude\n",
    "\n",
    "\"\"\"\n",
    "\n",
    "# /content/sample_data/Dados_Vendas_JAN.csv\n",
    "\n",
    "\"\"\"\n",
    "importar dados sobre vendas dos clientes do mês de janeiro de 2024\n",
    "Para selecionar a lista usei o select no banco SQL SERVER\n",
    "  Select top 1000\n",
    "    substring(cl.Fantasia, 1, 5) as Fantasia,\n",
    "    Cod_CidIbge,\n",
    "    sum(ve.Qtd_Total) as Qtd_Total_JAN,\n",
    "    sum(ve.vlr_total) as vlr_total_JAN\n",
    "  FROM tab_vendas vd\n",
    "      inner join tab_cliente cl on vd.cod_clien = cod_clien\n",
    "  where\n",
    "    dat_venda >= '20240101'\n",
    "    dat_venda <= '20240130'\n",
    "  group by\n",
    "    Cod_CidIbge\n",
    "\n",
    "Como resultado da consulta vinheram os 1000 clientes que compraram no mês de Janeiro de 2024:\n",
    "Fantasia, Código IBGE, Quantidade total de itens e valor total das compras dentro do perído\n",
    "\n",
    "\"\"\""
   ]
  },
  {
   "cell_type": "code",
   "execution_count": null,
   "metadata": {},
   "outputs": [],
   "source": [
    "pip install branca"
   ]
  },
  {
   "cell_type": "code",
   "execution_count": null,
   "metadata": {
    "vscode": {
     "languageId": "python"
    }
   },
   "outputs": [],
   "source": [
    "import pandas as pd\n",
    "import folium\n",
    "from folium.plugins import MarkerCluster\n",
    "import branca.colormap as cm\n",
    "import matplotlib.pyplot as plt"
   ]
  },
  {
   "cell_type": "code",
   "execution_count": null,
   "metadata": {
    "vscode": {
     "languageId": "python"
    }
   },
   "outputs": [],
   "source": [
    "# Função para carregar dados de cidades\n",
    "def dados_cidade():\n",
    "    imp_dados_cidade = pd.read_csv('localizacao_cidades_CE.csv', delimiter=';')\n",
    "    print(\"Colunas do DataFrame de Cidades:\", imp_dados_cidade.columns)\n",
    "    # Renomear as colunas para corresponder ao que é esperado no merge\n",
    "    imp_dados_cidade.rename(columns={'Longe': 'Longitude', 'Latit': 'Latitude'}, inplace=True)\n",
    "    return imp_dados_cidade"
   ]
  },
  {
   "cell_type": "code",
   "execution_count": null,
   "metadata": {
    "vscode": {
     "languageId": "python"
    }
   },
   "outputs": [],
   "source": [
    "# Função para carregar dados de vendas\n",
    "def dados_vendas():\n",
    "    imp_dados_vendas = pd.read_csv('Dados_Vendas_JAN.csv', delimiter=';')\n",
    "    print(\"Colunas do DataFrame de Vendas:\", imp_dados_vendas.columns)\n",
    "    return imp_dados_vendas"
   ]
  },
  {
   "cell_type": "code",
   "execution_count": null,
   "metadata": {
    "vscode": {
     "languageId": "python"
    }
   },
   "outputs": [],
   "source": [
    "# Função para combinar dados\n",
    "def merge_data(imp_dados_vendas, imp_dados_cidade):\n",
    "    #print(\"Verificando nomes das colunas antes do merge:\")\n",
    "    #print(\"Colunas de vendas:\", imp_dados_vendas.columns)\n",
    "    #print(\"Colunas de cidades:\", imp_dados_cidade.columns)\n",
    "\n",
    "    juncao_dos_dados = pd.merge(imp_dados_vendas, imp_dados_cidade, left_on='Cod_CidIbge', right_on='Cod_CidIbge', how='right')\n",
    "    filtro_dados = juncao_dos_dados[['Fantasia', 'Cod_CidIbge', 'Cidade', 'Longitude', 'Latitude', 'Qtd_Total_JAN', 'vlr_total_JAN']]\n",
    "\n",
    "    # Convertendo a coluna 'vlr_total_JAN' para numérico\n",
    "    filtro_dados['vlr_total_JAN'] = pd.to_numeric(filtro_dados['vlr_total_JAN'], errors='coerce')\n",
    "    return filtro_dados"
   ]
  },
  {
   "cell_type": "code",
   "execution_count": null,
   "metadata": {
    "vscode": {
     "languageId": "python"
    }
   },
   "outputs": [],
   "source": [
    "# Função para criar mapa com marcadores coloridos\n",
    "def create_map(dados):\n",
    "    # Agrupar por cidade e calcular a soma dos valores de vendas\n",
    "    grouped_data = dados.groupby(['Cod_CidIbge', 'Cidade', 'Longitude', 'Latitude']).agg({\n",
    "        'vlr_total_JAN': 'sum'\n",
    "    }).reset_index()\n",
    "\n",
    "    # Filtrar dados com valores de vendas maiores que 0\n",
    "    grouped_data = grouped_data[grouped_data['vlr_total_JAN'] > 0]\n",
    "\n",
    "    # Criar um mapa base\n",
    "    mapa = folium.Map(location=[-3.71722, -38.5433], zoom_start=7)  # Coordenadas aproximadas do Ceará\n",
    "\n",
    "    # Criar um colormap de degradê\n",
    "    colormap = cm.linear.BrBG_04.scale(grouped_data['vlr_total_JAN'].min(), grouped_data['vlr_total_JAN'].max())\n",
    "    colormap.caption = 'Total de Vendas (R$)'\n",
    "    colormap.add_to(mapa)\n",
    "\n",
    "    # Adicionar marcadores ao mapa\n",
    "    for _, row in grouped_data.iterrows():\n",
    "        folium.CircleMarker(\n",
    "            location=[row['Latitude'], row['Longitude']],\n",
    "            radius=10,\n",
    "            popup=f\"{row['Cidade']}<br>Total de Vendas: R${row['vlr_total_JAN']:.2f}\",\n",
    "            color=colormap(row['vlr_total_JAN']),\n",
    "            fill=True,\n",
    "            fill_color=colormap(row['vlr_total_JAN'])\n",
    "        ).add_to(mapa)\n",
    "\n",
    "    return mapa"
   ]
  },
  {
   "cell_type": "code",
   "execution_count": null,
   "metadata": {
    "vscode": {
     "languageId": "python"
    }
   },
   "outputs": [],
   "source": [
    "imp_dados_cidade = dados_cidade()  # Carregar os dados da tabela cidade"
   ]
  },
  {
   "cell_type": "code",
   "execution_count": null,
   "metadata": {
    "vscode": {
     "languageId": "python"
    }
   },
   "outputs": [],
   "source": [
    "imp_dados_vendas = dados_vendas()  # Carregar os dados de Vendas"
   ]
  },
  {
   "cell_type": "code",
   "execution_count": null,
   "metadata": {
    "vscode": {
     "languageId": "python"
    }
   },
   "outputs": [],
   "source": [
    "dados_combinados = merge_data(imp_dados_vendas, imp_dados_cidade) # Carregar os dados combinados"
   ]
  },
  {
   "cell_type": "code",
   "execution_count": null,
   "metadata": {
    "vscode": {
     "languageId": "python"
    }
   },
   "outputs": [],
   "source": [
    "mapa_vendas = create_map(dados_combinados)  # Criar o mapa"
   ]
  },
  {
   "cell_type": "code",
   "execution_count": null,
   "metadata": {
    "vscode": {
     "languageId": "python"
    }
   },
   "outputs": [],
   "source": [
    "mapa_vendas #exibir mapa"
   ]
  },
  {
   "cell_type": "code",
   "execution_count": null,
   "metadata": {
    "vscode": {
     "languageId": "python"
    }
   },
   "outputs": [],
   "source": [
    "# Função para criar um gráfico de barras\n",
    "def create_bar_chart(dados):\n",
    "    # Agrupar por cidade e calcular a soma dos valores de vendas\n",
    "    grouped_data = dados.groupby('Cidade').agg({\n",
    "        'vlr_total_JAN': 'sum'\n",
    "    }).reset_index()\n",
    "\n",
    "    # Filtrar dados com valores de vendas maiores que 0\n",
    "    grouped_data = grouped_data[grouped_data['vlr_total_JAN'] > 0]\n",
    "\n",
    "    # Ordenar os dados por valor de vendas\n",
    "    grouped_data = grouped_data.sort_values(by='vlr_total_JAN', ascending=False)\n",
    "\n",
    "    # Plotar o gráfico de barras\n",
    "    plt.figure(figsize=(10, 8))\n",
    "    plt.bar(grouped_data['Cidade'], grouped_data['vlr_total_JAN'], color=['skyblue' if x == grouped_data['vlr_total_JAN'].max() else 'lightgrey' for x in grouped_data['vlr_total_JAN']])\n",
    "    #plt.bar(grouped_data['Cidade'], grouped_data['vlr_total_JAN'], color='skyblue')\n",
    "    plt.xlabel('Cidade')\n",
    "    plt.ylabel('Total de Vendas (R$)')\n",
    "    plt.title('Total de Vendas por Cidade em Janeiro de 2024 (Contabilizando 1000 vendas)')\n",
    "    plt.xticks(rotation=90)\n",
    "    plt.show()\n"
   ]
  },
  {
   "cell_type": "code",
   "execution_count": null,
   "metadata": {
    "vscode": {
     "languageId": "python"
    }
   },
   "outputs": [],
   "source": [
    "# Criar e exibir o gráfico de barras\n",
    "create_bar_chart(dados_combinados)"
   ]
  },
  {
   "cell_type": "code",
   "execution_count": null,
   "metadata": {
    "vscode": {
     "languageId": "python"
    }
   },
   "outputs": [],
   "source": [
    "def DataFrame_Cidade(dados):\n",
    "    # Agrupar por cidade e calcular a soma dos valores de vendas\n",
    "    df_cidade = dados.groupby('Cidade').agg({\n",
    "        'vlr_total_JAN': 'sum',\n",
    "        'Qtd_Total_JAN': 'sum'\n",
    "    }).reset_index()\n",
    "\n",
    "    return df_cidade  # Retorna o DataFrame agrupado\n",
    "\n",
    "# Chamando a função e armazenando o resultado\n",
    "dados_agrupados = DataFrame_Cidade(dados_combinados)"
   ]
  },
  {
   "cell_type": "code",
   "execution_count": null,
   "metadata": {
    "vscode": {
     "languageId": "python"
    }
   },
   "outputs": [],
   "source": [
    "# Exibindo o DataFrame resultante\n",
    "display(dados_agrupados)"
   ]
  }
 ],
 "metadata": {
  "kernelspec": {
   "display_name": "Xonsh",
   "language": "xonsh",
   "name": "xonsh"
  },
  "language_info": {
   "name": "xonsh"
  }
 },
 "nbformat": 4,
 "nbformat_minor": 4
}
