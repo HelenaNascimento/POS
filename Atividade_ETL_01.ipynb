{
  "nbformat": 4,
  "nbformat_minor": 0,
  "metadata": {
    "colab": {
      "provenance": [],
      "authorship_tag": "ABX9TyPPwBqzj80f648vsWmws91k",
      "include_colab_link": true
    },
    "kernelspec": {
      "name": "python3",
      "display_name": "Python 3"
    },
    "language_info": {
      "name": "python"
    }
  },
  "cells": [
    {
      "cell_type": "markdown",
      "metadata": {
        "id": "view-in-github",
        "colab_type": "text"
      },
      "source": [
        "<a href=\"https://colab.research.google.com/github/HelenaNascimento/POS/blob/master/Atividade_ETL_01.ipynb\" target=\"_parent\"><img src=\"https://colab.research.google.com/assets/colab-badge.svg\" alt=\"Open In Colab\"/></a>"
      ]
    },
    {
      "cell_type": "code",
      "source": [
        "pip install matplotlib"
      ],
      "metadata": {
        "colab": {
          "base_uri": "https://localhost:8080/"
        },
        "id": "BRzUvVVLOxLc",
        "outputId": "f430e895-db93-4895-b8e9-2f7cf6dc4dee"
      },
      "execution_count": 105,
      "outputs": [
        {
          "output_type": "stream",
          "name": "stdout",
          "text": [
            "Requirement already satisfied: matplotlib in /usr/local/lib/python3.10/dist-packages (3.7.1)\n",
            "Requirement already satisfied: contourpy>=1.0.1 in /usr/local/lib/python3.10/dist-packages (from matplotlib) (1.2.1)\n",
            "Requirement already satisfied: cycler>=0.10 in /usr/local/lib/python3.10/dist-packages (from matplotlib) (0.12.1)\n",
            "Requirement already satisfied: fonttools>=4.22.0 in /usr/local/lib/python3.10/dist-packages (from matplotlib) (4.53.0)\n",
            "Requirement already satisfied: kiwisolver>=1.0.1 in /usr/local/lib/python3.10/dist-packages (from matplotlib) (1.4.5)\n",
            "Requirement already satisfied: numpy>=1.20 in /usr/local/lib/python3.10/dist-packages (from matplotlib) (1.25.2)\n",
            "Requirement already satisfied: packaging>=20.0 in /usr/local/lib/python3.10/dist-packages (from matplotlib) (24.1)\n",
            "Requirement already satisfied: pillow>=6.2.0 in /usr/local/lib/python3.10/dist-packages (from matplotlib) (9.4.0)\n",
            "Requirement already satisfied: pyparsing>=2.3.1 in /usr/local/lib/python3.10/dist-packages (from matplotlib) (3.1.2)\n",
            "Requirement already satisfied: python-dateutil>=2.7 in /usr/local/lib/python3.10/dist-packages (from matplotlib) (2.8.2)\n",
            "Requirement already satisfied: six>=1.5 in /usr/local/lib/python3.10/dist-packages (from python-dateutil>=2.7->matplotlib) (1.16.0)\n"
          ]
        }
      ]
    },
    {
      "cell_type": "code",
      "source": [
        "#pip install branca\n",
        "#pip install folium\n",
        "#pip install pandas\n",
        "#pip install matplotlib\n",
        "\n",
        "#branca = https://www.kaggle.com/code/stpeteishii/branca-colormap\n",
        "\n",
        "# /content/sample_data/localizacao_cidades_CE.csv\n",
        "\n",
        "\"\"\"\n",
        "importar dados do arquivo para o programa\n",
        "Dados sobre Cidades do Estado do Ceará\n",
        "Código do IBGE;\n",
        "Descrição da Cidade;\n",
        "Posição Longitude e;\n",
        "Posição Latitude\n",
        "\n",
        "\"\"\"\n",
        "\n",
        "# /content/sample_data/Dados_Vendas_JAN.csv\n",
        "\n",
        "\"\"\"\n",
        "importar dados sobre vendas dos clientes do mês de janeiro de 2024\n",
        "Para selecionar a lista usei o select no banco SQL SERVER\n",
        "  Select top 1000\n",
        "    substring(cl.Fantasia, 1, 5) as Fantasia,\n",
        "    Cod_CidIbge,\n",
        "    sum(ve.Qtd_Total) as Qtd_Total_JAN,\n",
        "    sum(ve.vlr_total) as vlr_total_JAN\n",
        "  FROM tab_vendas vd\n",
        "      inner join tab_cliente cl on vd.cod_clien = cod_clien\n",
        "  where\n",
        "    dat_venda >= '20240101'\n",
        "    dat_venda <= '20240130'\n",
        "  group by\n",
        "    Cod_CidIbge\n",
        "\n",
        "Como resultado da consulta vinheram os 1000 clientes que compraram no mês de Janeiro de 2024:\n",
        "Fantasia, Código IBGE, Quantidade total de itens e valor total das compras dentro do perído\n",
        "\n",
        "\"\"\""
      ],
      "metadata": {
        "colab": {
          "base_uri": "https://localhost:8080/",
          "height": 122
        },
        "collapsed": true,
        "id": "gMFyRpR40_RS",
        "outputId": "56bb0b31-7d96-4ec9-a417-1fbf0abcccaa"
      },
      "execution_count": 106,
      "outputs": [
        {
          "output_type": "execute_result",
          "data": {
            "text/plain": [
              "\"\\nimportar dados sobre vendas dos clientes do mês de janeiro de 2024\\nPara selecionar a lista usei o select no banco SQL SERVER\\n  Select top 1000\\n    substring(cl.Fantasia, 1, 5) as Fantasia,\\n    Cod_CidIbge,\\n    sum(ve.Qtd_Total) as Qtd_Total_JAN,\\n    sum(ve.vlr_total) as vlr_total_JAN\\n  FROM tab_vendas vd\\n      inner join tab_cliente cl on vd.cod_clien = cod_clien\\n  where \\n    dat_venda >= '20240101'\\n    dat_venda <= '20240130'\\n  group by \\n    Cod_CidIbge\\n\\nComo resultado da consulta vinheram os 1000 clientes que compraram no mês de Janeiro de 2024:\\nFantasia, Código IBGE, Quantidade total de itens e valor total das compras dentro do perído\\n\\n\""
            ],
            "application/vnd.google.colaboratory.intrinsic+json": {
              "type": "string"
            }
          },
          "metadata": {},
          "execution_count": 106
        }
      ]
    },
    {
      "cell_type": "code",
      "execution_count": 107,
      "metadata": {
        "id": "GTabOvKNINP0"
      },
      "outputs": [],
      "source": [
        "import pandas as pd\n",
        "import folium\n",
        "from folium.plugins import MarkerCluster\n",
        "import branca.colormap as cm\n",
        "import matplotlib.pyplot as plt"
      ]
    },
    {
      "cell_type": "code",
      "source": [
        "# Função para carregar dados de cidades\n",
        "def dados_cidade():\n",
        "    imp_dados_cidade = pd.read_csv('/content/sample_data/localizacao_cidades_CE.csv', delimiter=';')\n",
        "    print(\"Colunas do DataFrame de Cidades:\", imp_dados_cidade.columns)\n",
        "    # Renomear as colunas para corresponder ao que é esperado no merge\n",
        "    imp_dados_cidade.rename(columns={'Longe': 'Longitude', 'Latit': 'Latitude'}, inplace=True)\n",
        "    return imp_dados_cidade"
      ],
      "metadata": {
        "id": "rIUivMHhS-F_"
      },
      "execution_count": 108,
      "outputs": []
    },
    {
      "cell_type": "code",
      "source": [
        "# Função para carregar dados de vendas\n",
        "def dados_vendas():\n",
        "    imp_dados_vendas = pd.read_csv('/content/sample_data/Dados_Vendas_JAN.csv', delimiter=';')\n",
        "    print(\"Colunas do DataFrame de Vendas:\", imp_dados_vendas.columns)\n",
        "    return imp_dados_vendas"
      ],
      "metadata": {
        "id": "C0QUGp1oTAkE"
      },
      "execution_count": 109,
      "outputs": []
    },
    {
      "cell_type": "code",
      "source": [
        "# Função para combinar dados\n",
        "def merge_data(imp_dados_vendas, imp_dados_cidade):\n",
        "    #print(\"Verificando nomes das colunas antes do merge:\")\n",
        "    #print(\"Colunas de vendas:\", imp_dados_vendas.columns)\n",
        "    #print(\"Colunas de cidades:\", imp_dados_cidade.columns)\n",
        "\n",
        "    juncao_dos_dados = pd.merge(imp_dados_vendas, imp_dados_cidade, left_on='Cod_CidIbge', right_on='Cod_CidIbge', how='right')\n",
        "    filtro_dados = juncao_dos_dados[['Fantasia', 'Cod_CidIbge', 'Cidade', 'Longitude', 'Latitude', 'Qtd_Total_JAN', 'vlr_total_JAN']]\n",
        "\n",
        "    # Convertendo a coluna 'vlr_total_JAN' para numérico\n",
        "    filtro_dados['vlr_total_JAN'] = pd.to_numeric(filtro_dados['vlr_total_JAN'], errors='coerce')\n",
        "    return filtro_dados"
      ],
      "metadata": {
        "id": "RHwjTdgBgTA1"
      },
      "execution_count": 110,
      "outputs": []
    },
    {
      "cell_type": "code",
      "source": [
        "# Função para criar mapa com marcadores coloridos\n",
        "def create_map(dados):\n",
        "    # Agrupar por cidade e calcular a soma dos valores de vendas\n",
        "    grouped_data = dados.groupby(['Cod_CidIbge', 'Cidade', 'Longitude', 'Latitude']).agg({\n",
        "        'vlr_total_JAN': 'sum'\n",
        "    }).reset_index()\n",
        "\n",
        "    # Filtrar dados com valores de vendas maiores que 0\n",
        "    grouped_data = grouped_data[grouped_data['vlr_total_JAN'] > 0]\n",
        "\n",
        "    # Criar um mapa base\n",
        "    mapa = folium.Map(location=[-3.71722, -38.5433], zoom_start=7)  # Coordenadas aproximadas do Ceará\n",
        "\n",
        "    # Criar um colormap de degradê\n",
        "    colormap = cm.linear.BrBG_04.scale(grouped_data['vlr_total_JAN'].min(), grouped_data['vlr_total_JAN'].max())\n",
        "    colormap.caption = 'Total de Vendas (R$)'\n",
        "    colormap.add_to(mapa)\n",
        "\n",
        "    # Adicionar marcadores ao mapa\n",
        "    for _, row in grouped_data.iterrows():\n",
        "        folium.CircleMarker(\n",
        "            location=[row['Latitude'], row['Longitude']],\n",
        "            radius=10,\n",
        "            popup=f\"{row['Cidade']}<br>Total de Vendas: R${row['vlr_total_JAN']:.2f}\",\n",
        "            color=colormap(row['vlr_total_JAN']),\n",
        "            fill=True,\n",
        "            fill_color=colormap(row['vlr_total_JAN'])\n",
        "        ).add_to(mapa)\n",
        "\n",
        "    return mapa"
      ],
      "metadata": {
        "id": "thUaqtOkNgZn"
      },
      "execution_count": 111,
      "outputs": []
    },
    {
      "cell_type": "code",
      "source": [
        "imp_dados_cidade = dados_cidade()  # Carregar os dados da tabela cidade"
      ],
      "metadata": {
        "id": "YO_CARsgN1yV",
        "collapsed": true,
        "colab": {
          "base_uri": "https://localhost:8080/"
        },
        "outputId": "0212f145-cdbb-41b8-d1c4-7ba1f1ca4cb1"
      },
      "execution_count": 112,
      "outputs": [
        {
          "output_type": "stream",
          "name": "stdout",
          "text": [
            "Colunas do DataFrame de Cidades: Index(['Cod_CidIbge', 'Cidade', 'Longe', 'Latit'], dtype='object')\n"
          ]
        }
      ]
    },
    {
      "cell_type": "code",
      "source": [
        "imp_dados_vendas = dados_vendas()  # Carregar os dados de Vendas"
      ],
      "metadata": {
        "colab": {
          "base_uri": "https://localhost:8080/"
        },
        "id": "9NZvIRjmTqtY",
        "outputId": "82ae9055-6548-45a6-a623-c6169b4237a9"
      },
      "execution_count": 113,
      "outputs": [
        {
          "output_type": "stream",
          "name": "stdout",
          "text": [
            "Colunas do DataFrame de Vendas: Index(['Cod_CidIbge', 'Fantasia', 'Qtd_Total_JAN', 'vlr_total_JAN'], dtype='object')\n"
          ]
        }
      ]
    },
    {
      "cell_type": "code",
      "source": [
        "dados_combinados = merge_data(imp_dados_vendas, imp_dados_cidade) # Carregar os dados combinados"
      ],
      "metadata": {
        "id": "pJiuPvOyTtoW"
      },
      "execution_count": 114,
      "outputs": []
    },
    {
      "cell_type": "code",
      "source": [
        "mapa_vendas = create_map(dados_combinados)  # Criar o mapa"
      ],
      "metadata": {
        "id": "CHoX8nIUTv5e"
      },
      "execution_count": 115,
      "outputs": []
    },
    {
      "cell_type": "code",
      "source": [
        "mapa_vendas #exibir mapa"
      ],
      "metadata": {
        "colab": {
          "base_uri": "https://localhost:8080/",
          "height": 615
        },
        "id": "TArR87WFxXum",
        "outputId": "6cfdeee9-5454-49b4-db41-cb020545ac5c"
      },
      "execution_count": 116,
      "outputs": [
        {
          "output_type": "execute_result",
          "data": {
            "text/plain": [
              "<folium.folium.Map at 0x7e5e999db730>"
            ],
            "text/html": [
              "<div style=\"width:100%;\"><div style=\"position:relative;width:100%;height:0;padding-bottom:60%;\"><span style=\"color:#565656\">Make this Notebook Trusted to load map: File -> Trust Notebook</span><iframe srcdoc=\"&lt;!DOCTYPE html&gt;\n",
              "&lt;html&gt;\n",
              "&lt;head&gt;\n",
              "    \n",
              "    &lt;meta http-equiv=&quot;content-type&quot; content=&quot;text/html; charset=UTF-8&quot; /&gt;\n",
              "    \n",
              "        &lt;script&gt;\n",
              "            L_NO_TOUCH = false;\n",
              "            L_DISABLE_3D = false;\n",
              "        &lt;/script&gt;\n",
              "    \n",
              "    &lt;style&gt;html, body {width: 100%;height: 100%;margin: 0;padding: 0;}&lt;/style&gt;\n",
              "    &lt;style&gt;#map {position:absolute;top:0;bottom:0;right:0;left:0;}&lt;/style&gt;\n",
              "    &lt;script src=&quot;https://cdn.jsdelivr.net/npm/leaflet@1.9.3/dist/leaflet.js&quot;&gt;&lt;/script&gt;\n",
              "    &lt;script src=&quot;https://code.jquery.com/jquery-1.12.4.min.js&quot;&gt;&lt;/script&gt;\n",
              "    &lt;script src=&quot;https://cdn.jsdelivr.net/npm/bootstrap@5.2.2/dist/js/bootstrap.bundle.min.js&quot;&gt;&lt;/script&gt;\n",
              "    &lt;script src=&quot;https://cdnjs.cloudflare.com/ajax/libs/Leaflet.awesome-markers/2.0.2/leaflet.awesome-markers.js&quot;&gt;&lt;/script&gt;\n",
              "    &lt;link rel=&quot;stylesheet&quot; href=&quot;https://cdn.jsdelivr.net/npm/leaflet@1.9.3/dist/leaflet.css&quot;/&gt;\n",
              "    &lt;link rel=&quot;stylesheet&quot; href=&quot;https://cdn.jsdelivr.net/npm/bootstrap@5.2.2/dist/css/bootstrap.min.css&quot;/&gt;\n",
              "    &lt;link rel=&quot;stylesheet&quot; href=&quot;https://netdna.bootstrapcdn.com/bootstrap/3.0.0/css/bootstrap.min.css&quot;/&gt;\n",
              "    &lt;link rel=&quot;stylesheet&quot; href=&quot;https://cdn.jsdelivr.net/npm/@fortawesome/fontawesome-free@6.2.0/css/all.min.css&quot;/&gt;\n",
              "    &lt;link rel=&quot;stylesheet&quot; href=&quot;https://cdnjs.cloudflare.com/ajax/libs/Leaflet.awesome-markers/2.0.2/leaflet.awesome-markers.css&quot;/&gt;\n",
              "    &lt;link rel=&quot;stylesheet&quot; href=&quot;https://cdn.jsdelivr.net/gh/python-visualization/folium/folium/templates/leaflet.awesome.rotate.min.css&quot;/&gt;\n",
              "    \n",
              "            &lt;meta name=&quot;viewport&quot; content=&quot;width=device-width,\n",
              "                initial-scale=1.0, maximum-scale=1.0, user-scalable=no&quot; /&gt;\n",
              "            &lt;style&gt;\n",
              "                #map_a714315d3c21a4e252d28ab6d203065b {\n",
              "                    position: relative;\n",
              "                    width: 100.0%;\n",
              "                    height: 100.0%;\n",
              "                    left: 0.0%;\n",
              "                    top: 0.0%;\n",
              "                }\n",
              "                .leaflet-container { font-size: 1rem; }\n",
              "            &lt;/style&gt;\n",
              "        \n",
              "    &lt;script src=&quot;https://cdnjs.cloudflare.com/ajax/libs/d3/3.5.5/d3.min.js&quot;&gt;&lt;/script&gt;\n",
              "&lt;/head&gt;\n",
              "&lt;body&gt;\n",
              "    \n",
              "    \n",
              "            &lt;div class=&quot;folium-map&quot; id=&quot;map_a714315d3c21a4e252d28ab6d203065b&quot; &gt;&lt;/div&gt;\n",
              "        \n",
              "&lt;/body&gt;\n",
              "&lt;script&gt;\n",
              "    \n",
              "    \n",
              "            var map_a714315d3c21a4e252d28ab6d203065b = L.map(\n",
              "                &quot;map_a714315d3c21a4e252d28ab6d203065b&quot;,\n",
              "                {\n",
              "                    center: [-3.71722, -38.5433],\n",
              "                    crs: L.CRS.EPSG3857,\n",
              "                    zoom: 7,\n",
              "                    zoomControl: true,\n",
              "                    preferCanvas: false,\n",
              "                }\n",
              "            );\n",
              "\n",
              "            \n",
              "\n",
              "        \n",
              "    \n",
              "            var tile_layer_c018d14acab62e774ce7cea27a9eed2a = L.tileLayer(\n",
              "                &quot;https://{s}.tile.openstreetmap.org/{z}/{x}/{y}.png&quot;,\n",
              "                {&quot;attribution&quot;: &quot;Data by \\u0026copy; \\u003ca target=\\&quot;_blank\\&quot; href=\\&quot;http://openstreetmap.org\\&quot;\\u003eOpenStreetMap\\u003c/a\\u003e, under \\u003ca target=\\&quot;_blank\\&quot; href=\\&quot;http://www.openstreetmap.org/copyright\\&quot;\\u003eODbL\\u003c/a\\u003e.&quot;, &quot;detectRetina&quot;: false, &quot;maxNativeZoom&quot;: 18, &quot;maxZoom&quot;: 18, &quot;minZoom&quot;: 0, &quot;noWrap&quot;: false, &quot;opacity&quot;: 1, &quot;subdomains&quot;: &quot;abc&quot;, &quot;tms&quot;: false}\n",
              "            ).addTo(map_a714315d3c21a4e252d28ab6d203065b);\n",
              "        \n",
              "    \n",
              "    var color_map_f1b55193bc1cbcfbf31ae0f754926566 = {};\n",
              "\n",
              "    \n",
              "    color_map_f1b55193bc1cbcfbf31ae0f754926566.color = d3.scale.threshold()\n",
              "              .domain([86.0, 115.0120240480962, 144.0240480961924, 173.0360721442886, 202.04809619238478, 231.06012024048096, 260.0721442885772, 289.0841683366733, 318.09619238476955, 347.10821643286573, 376.1202404809619, 405.1322645290581, 434.1442885771543, 463.1563126252505, 492.1683366733467, 521.1803607214429, 550.1923847695391, 579.2044088176353, 608.2164328657315, 637.2284569138277, 666.2404809619238, 695.2525050100201, 724.2645290581162, 753.2765531062124, 782.2885771543087, 811.3006012024048, 840.312625250501, 869.3246492985973, 898.3366733466934, 927.3486973947896, 956.3607214428857, 985.372745490982, 1014.3847695390782, 1043.3967935871742, 1072.4088176352707, 1101.4208416833667, 1130.432865731463, 1159.4448897795592, 1188.4569138276554, 1217.4689378757514, 1246.4809619238476, 1275.4929859719439, 1304.5050100200401, 1333.5170340681364, 1362.5290581162324, 1391.5410821643286, 1420.5531062124248, 1449.565130260521, 1478.5771543086173, 1507.5891783567133, 1536.6012024048096, 1565.6132264529058, 1594.625250501002, 1623.6372745490983, 1652.6492985971945, 1681.6613226452905, 1710.6733466933867, 1739.685370741483, 1768.6973947895792, 1797.7094188376755, 1826.7214428857715, 1855.7334669338677, 1884.745490981964, 1913.7575150300602, 1942.7695390781564, 1971.7815631262524, 2000.7935871743487, 2029.805611222445, 2058.8176352705414, 2087.8296593186374, 2116.8416833667334, 2145.85370741483, 2174.865731462926, 2203.877755511022, 2232.8897795591183, 2261.9018036072143, 2290.913827655311, 2319.925851703407, 2348.937875751503, 2377.9498997995993, 2406.9619238476953, 2435.9739478957918, 2464.9859719438878, 2493.9979959919838, 2523.0100200400802, 2552.0220440881762, 2581.0340681362727, 2610.0460921843687, 2639.0581162324647, 2668.070140280561, 2697.082164328657, 2726.0941883767537, 2755.1062124248497, 2784.1182364729457, 2813.130260521042, 2842.142284569138, 2871.1543086172346, 2900.1663326653306, 2929.1783567134266, 2958.190380761523, 2987.202404809619, 3016.2144288577156, 3045.2264529058116, 3074.2384769539076, 3103.250501002004, 3132.2625250501, 3161.2745490981965, 3190.2865731462925, 3219.298597194389, 3248.310621242485, 3277.322645290581, 3306.3346693386775, 3335.3466933867735, 3364.35871743487, 3393.370741482966, 3422.382765531062, 3451.3947895791584, 3480.4068136272545, 3509.418837675351, 3538.430861723447, 3567.442885771543, 3596.4549098196394, 3625.4669338677354, 3654.478957915832, 3683.490981963928, 3712.503006012024, 3741.5150300601204, 3770.5270541082164, 3799.539078156313, 3828.551102204409, 3857.563126252505, 3886.5751503006013, 3915.5871743486973, 3944.599198396794, 3973.61122244489, 4002.623246492986, 4031.6352705410823, 4060.6472945891783, 4089.6593186372747, 4118.671342685371, 4147.683366733467, 4176.695390781563, 4205.70741482966, 4234.719438877755, 4263.731462925852, 4292.743486973948, 4321.755511022044, 4350.76753507014, 4379.779559118237, 4408.791583166333, 4437.803607214429, 4466.815631262525, 4495.827655310622, 4524.839679358717, 4553.851703406814, 4582.86372745491, 4611.875751503006, 4640.887775551102, 4669.899799599199, 4698.911823647295, 4727.923847695391, 4756.935871743487, 4785.9478957915835, 4814.959919839679, 4843.9719438877755, 4872.983967935872, 4901.9959919839675, 4931.008016032064, 4960.0200400801605, 4989.032064128257, 5018.0440881763525, 5047.056112224449, 5076.068136272545, 5105.080160320641, 5134.092184368737, 5163.104208416834, 5192.116232464929, 5221.128256513026, 5250.140280561122, 5279.152304609219, 5308.164328657314, 5337.176352705411, 5366.188376753507, 5395.200400801603, 5424.212424849699, 5453.224448897796, 5482.236472945891, 5511.248496993988, 5540.260521042084, 5569.272545090181, 5598.284569138276, 5627.296593186373, 5656.308617234469, 5685.320641282565, 5714.332665330661, 5743.344689378758, 5772.356713426853, 5801.36873747495, 5830.380761523046, 5859.392785571143, 5888.404809619238, 5917.416833667335, 5946.428857715431, 5975.440881763527, 6004.452905811623, 6033.46492985972, 6062.476953907815, 6091.488977955912, 6120.501002004008, 6149.513026052105, 6178.5250501002, 6207.537074148297, 6236.549098196393, 6265.561122244489, 6294.573146292585, 6323.5851703406815, 6352.597194388778, 6381.609218436874, 6410.62124248497, 6439.6332665330665, 6468.645290581162, 6497.6573146292585, 6526.669338677355, 6555.6813627254505, 6584.693386773547, 6613.705410821643, 6642.71743486974, 6671.7294589178355, 6700.741482965932, 6729.753507014028, 6758.765531062124, 6787.77755511022, 6816.789579158317, 6845.801603206412, 6874.813627254509, 6903.825651302605, 6932.837675350702, 6961.849699398797, 6990.861723446894, 7019.87374749499, 7048.885771543086, 7077.897795591182, 7106.909819639279, 7135.921843687374, 7164.933867735471, 7193.945891783567, 7222.957915831664, 7251.969939879759, 7280.981963927856, 7309.993987975952, 7339.006012024048, 7368.018036072144, 7397.030060120241, 7426.042084168336, 7455.054108216433, 7484.066132264529, 7513.078156312626, 7542.090180360721, 7571.102204408818, 7600.114228456914, 7629.12625250501, 7658.138276553106, 7687.150300601203, 7716.162324649298, 7745.174348697395, 7774.186372745491, 7803.198396793588, 7832.210420841683, 7861.22244488978, 7890.234468937876, 7919.246492985972, 7948.258517034068, 7977.2705410821645, 8006.28256513026, 8035.294589178357, 8064.306613226453, 8093.3186372745495, 8122.330661322645, 8151.3426853707415, 8180.354709418838, 8209.366733466934, 8238.37875751503, 8267.390781563126, 8296.402805611222, 8325.41482965932, 8354.426853707415, 8383.43887775551, 8412.450901803608, 8441.462925851703, 8470.474949899799, 8499.486973947896, 8528.498997995992, 8557.511022044087, 8586.523046092185, 8615.53507014028, 8644.547094188376, 8673.559118236473, 8702.571142284569, 8731.583166332666, 8760.595190380762, 8789.607214428857, 8818.619238476955, 8847.63126252505, 8876.643286573146, 8905.655310621243, 8934.667334669339, 8963.679358717434, 8992.691382765532, 9021.703406813627, 9050.715430861723, 9079.72745490982, 9108.739478957916, 9137.751503006011, 9166.763527054109, 9195.775551102204, 9224.7875751503, 9253.799599198397, 9282.811623246493, 9311.82364729459, 9340.835671342686, 9369.847695390781, 9398.859719438879, 9427.871743486974, 9456.88376753507, 9485.895791583167, 9514.907815631263, 9543.919839679358, 9572.931863727455, 9601.943887775551, 9630.955911823647, 9659.967935871744, 9688.97995991984, 9717.991983967935, 9747.004008016032, 9776.016032064128, 9805.028056112224, 9834.040080160321, 9863.052104208416, 9892.064128256514, 9921.07615230461, 9950.088176352705, 9979.100200400802, 10008.112224448898, 10037.124248496993, 10066.13627254509, 10095.148296593186, 10124.160320641282, 10153.17234468938, 10182.184368737475, 10211.19639278557, 10240.208416833668, 10269.220440881763, 10298.232464929859, 10327.244488977956, 10356.256513026052, 10385.268537074147, 10414.280561122245, 10443.29258517034, 10472.304609218438, 10501.316633266533, 10530.328657314629, 10559.340681362726, 10588.352705410822, 10617.364729458917, 10646.376753507015, 10675.38877755511, 10704.400801603206, 10733.412825651303, 10762.424849699399, 10791.436873747494, 10820.448897795592, 10849.460921843687, 10878.472945891783, 10907.48496993988, 10936.496993987976, 10965.509018036073, 10994.521042084169, 11023.533066132264, 11052.545090180362, 11081.557114228457, 11110.569138276553, 11139.58116232465, 11168.593186372746, 11197.605210420841, 11226.617234468938, 11255.629258517034, 11284.64128256513, 11313.653306613227, 11342.665330661323, 11371.677354709418, 11400.689378757515, 11429.701402805611, 11458.713426853707, 11487.725450901804, 11516.7374749499, 11545.749498997997, 11574.761523046092, 11603.773547094188, 11632.785571142285, 11661.79759519038, 11690.809619238476, 11719.821643286574, 11748.83366733467, 11777.845691382765, 11806.857715430862, 11835.869739478958, 11864.881763527053, 11893.89378757515, 11922.905811623246, 11951.917835671342, 11980.92985971944, 12009.941883767535, 12038.95390781563, 12067.965931863728, 12096.977955911823, 12125.98997995992, 12155.002004008016, 12184.014028056112, 12213.02605210421, 12242.038076152305, 12271.0501002004, 12300.062124248498, 12329.074148296593, 12358.086172344689, 12387.098196392786, 12416.110220440882, 12445.122244488977, 12474.134268537075, 12503.14629258517, 12532.158316633266, 12561.170340681363, 12590.182364729459, 12619.194388777556, 12648.206412825652, 12677.218436873747, 12706.230460921844, 12735.24248496994, 12764.254509018036, 12793.266533066133, 12822.278557114229, 12851.290581162324, 12880.302605210421, 12909.314629258517, 12938.326653306613, 12967.33867735471, 12996.350701402805, 13025.362725450901, 13054.374749498998, 13083.386773547094, 13112.39879759519, 13141.410821643287, 13170.422845691382, 13199.43486973948, 13228.446893787575, 13257.458917835671, 13286.470941883768, 13315.482965931864, 13344.49498997996, 13373.507014028057, 13402.519038076152, 13431.531062124248, 13460.543086172345, 13489.55511022044, 13518.567134268536, 13547.579158316634, 13576.59118236473, 13605.603206412825, 13634.615230460922, 13663.627254509018, 13692.639278557113, 13721.65130260521, 13750.663326653306, 13779.675350701404, 13808.6873747495, 13837.699398797595, 13866.711422845692, 13895.723446893788, 13924.735470941883, 13953.74749498998, 13982.759519038076, 14011.771543086172, 14040.78356713427, 14069.795591182365, 14098.80761523046, 14127.819639278558, 14156.831663326653, 14185.843687374749, 14214.855711422846, 14243.867735470942, 14272.879759519037, 14301.891783567135, 14330.90380761523, 14359.915831663327, 14388.927855711423, 14417.939879759519, 14446.951903807616, 14475.963927855712, 14504.975951903807, 14533.987975951904, 14563.0])\n",
              "              .range([&#x27;#a6611aff&#x27;, &#x27;#a6611aff&#x27;, &#x27;#a7621bff&#x27;, &#x27;#a7631bff&#x27;, &#x27;#a8631cff&#x27;, &#x27;#a8641dff&#x27;, &#x27;#a8641dff&#x27;, &#x27;#a9651eff&#x27;, &#x27;#a9661eff&#x27;, &#x27;#a9661fff&#x27;, &#x27;#aa6720ff&#x27;, &#x27;#aa6720ff&#x27;, &#x27;#aa6821ff&#x27;, &#x27;#ab6821ff&#x27;, &#x27;#ab6922ff&#x27;, &#x27;#ab6a23ff&#x27;, &#x27;#ac6a23ff&#x27;, &#x27;#ac6b24ff&#x27;, &#x27;#ac6b24ff&#x27;, &#x27;#ad6c25ff&#x27;, &#x27;#ad6d26ff&#x27;, &#x27;#ad6d26ff&#x27;, &#x27;#ae6e27ff&#x27;, &#x27;#ae6e27ff&#x27;, &#x27;#ae6f28ff&#x27;, &#x27;#af7029ff&#x27;, &#x27;#af7029ff&#x27;, &#x27;#af712aff&#x27;, &#x27;#b0712aff&#x27;, &#x27;#b0722bff&#x27;, &#x27;#b0722cff&#x27;, &#x27;#b1732cff&#x27;, &#x27;#b1742dff&#x27;, &#x27;#b2742dff&#x27;, &#x27;#b2752eff&#x27;, &#x27;#b2752fff&#x27;, &#x27;#b3762fff&#x27;, &#x27;#b37730ff&#x27;, &#x27;#b37730ff&#x27;, &#x27;#b47831ff&#x27;, &#x27;#b47832ff&#x27;, &#x27;#b47932ff&#x27;, &#x27;#b57933ff&#x27;, &#x27;#b57a33ff&#x27;, &#x27;#b57b34ff&#x27;, &#x27;#b67b34ff&#x27;, &#x27;#b67c35ff&#x27;, &#x27;#b67c36ff&#x27;, &#x27;#b77d36ff&#x27;, &#x27;#b77e37ff&#x27;, &#x27;#b77e37ff&#x27;, &#x27;#b87f38ff&#x27;, &#x27;#b87f39ff&#x27;, &#x27;#b88039ff&#x27;, &#x27;#b9803aff&#x27;, &#x27;#b9813aff&#x27;, &#x27;#b9823bff&#x27;, &#x27;#ba823cff&#x27;, &#x27;#ba833cff&#x27;, &#x27;#ba833dff&#x27;, &#x27;#bb843dff&#x27;, &#x27;#bb853eff&#x27;, &#x27;#bb853fff&#x27;, &#x27;#bc863fff&#x27;, &#x27;#bc8640ff&#x27;, &#x27;#bd8740ff&#x27;, &#x27;#bd8841ff&#x27;, &#x27;#bd8842ff&#x27;, &#x27;#be8942ff&#x27;, &#x27;#be8943ff&#x27;, &#x27;#be8a43ff&#x27;, &#x27;#bf8a44ff&#x27;, &#x27;#bf8b45ff&#x27;, &#x27;#bf8c45ff&#x27;, &#x27;#c08c46ff&#x27;, &#x27;#c08d46ff&#x27;, &#x27;#c08d47ff&#x27;, &#x27;#c18e48ff&#x27;, &#x27;#c18f48ff&#x27;, &#x27;#c18f49ff&#x27;, &#x27;#c29049ff&#x27;, &#x27;#c2904aff&#x27;, &#x27;#c2914bff&#x27;, &#x27;#c3914bff&#x27;, &#x27;#c3924cff&#x27;, &#x27;#c3934cff&#x27;, &#x27;#c4934dff&#x27;, &#x27;#c4944eff&#x27;, &#x27;#c4944eff&#x27;, &#x27;#c5954fff&#x27;, &#x27;#c5964fff&#x27;, &#x27;#c59650ff&#x27;, &#x27;#c69751ff&#x27;, &#x27;#c69751ff&#x27;, &#x27;#c69852ff&#x27;, &#x27;#c79852ff&#x27;, &#x27;#c79953ff&#x27;, &#x27;#c89a54ff&#x27;, &#x27;#c89a54ff&#x27;, &#x27;#c89b55ff&#x27;, &#x27;#c99b55ff&#x27;, &#x27;#c99c56ff&#x27;, &#x27;#c99d57ff&#x27;, &#x27;#ca9d57ff&#x27;, &#x27;#ca9e58ff&#x27;, &#x27;#ca9e58ff&#x27;, &#x27;#cb9f59ff&#x27;, &#x27;#cba05aff&#x27;, &#x27;#cba05aff&#x27;, &#x27;#cca15bff&#x27;, &#x27;#cca15bff&#x27;, &#x27;#cca25cff&#x27;, &#x27;#cda25dff&#x27;, &#x27;#cda35dff&#x27;, &#x27;#cda45eff&#x27;, &#x27;#cea45eff&#x27;, &#x27;#cea55fff&#x27;, &#x27;#cea560ff&#x27;, &#x27;#cfa660ff&#x27;, &#x27;#cfa761ff&#x27;, &#x27;#cfa761ff&#x27;, &#x27;#d0a862ff&#x27;, &#x27;#d0a862ff&#x27;, &#x27;#d0a963ff&#x27;, &#x27;#d1a964ff&#x27;, &#x27;#d1aa64ff&#x27;, &#x27;#d1ab65ff&#x27;, &#x27;#d2ab65ff&#x27;, &#x27;#d2ac66ff&#x27;, &#x27;#d3ac67ff&#x27;, &#x27;#d3ad67ff&#x27;, &#x27;#d3ae68ff&#x27;, &#x27;#d4ae68ff&#x27;, &#x27;#d4af69ff&#x27;, &#x27;#d4af6aff&#x27;, &#x27;#d5b06aff&#x27;, &#x27;#d5b16bff&#x27;, &#x27;#d5b16bff&#x27;, &#x27;#d6b26cff&#x27;, &#x27;#d6b26dff&#x27;, &#x27;#d6b36dff&#x27;, &#x27;#d7b36eff&#x27;, &#x27;#d7b46eff&#x27;, &#x27;#d7b56fff&#x27;, &#x27;#d8b570ff&#x27;, &#x27;#d8b670ff&#x27;, &#x27;#d8b671ff&#x27;, &#x27;#d9b771ff&#x27;, &#x27;#d9b872ff&#x27;, &#x27;#d9b873ff&#x27;, &#x27;#dab973ff&#x27;, &#x27;#dab974ff&#x27;, &#x27;#daba74ff&#x27;, &#x27;#dbba75ff&#x27;, &#x27;#dbbb76ff&#x27;, &#x27;#dbbc76ff&#x27;, &#x27;#dcbc77ff&#x27;, &#x27;#dcbd77ff&#x27;, &#x27;#ddbd78ff&#x27;, &#x27;#ddbe79ff&#x27;, &#x27;#ddbf79ff&#x27;, &#x27;#debf7aff&#x27;, &#x27;#dec07aff&#x27;, &#x27;#dec07bff&#x27;, &#x27;#dfc17cff&#x27;, &#x27;#dfc17cff&#x27;, &#x27;#dfc27dff&#x27;, &#x27;#dfc27dff&#x27;, &#x27;#dec27eff&#x27;, &#x27;#dec27eff&#x27;, &#x27;#ddc37eff&#x27;, &#x27;#ddc37fff&#x27;, &#x27;#dcc37fff&#x27;, &#x27;#dcc380ff&#x27;, &#x27;#dbc380ff&#x27;, &#x27;#dac381ff&#x27;, &#x27;#dac381ff&#x27;, &#x27;#d9c381ff&#x27;, &#x27;#d9c382ff&#x27;, &#x27;#d8c382ff&#x27;, &#x27;#d8c383ff&#x27;, &#x27;#d7c383ff&#x27;, &#x27;#d6c383ff&#x27;, &#x27;#d6c384ff&#x27;, &#x27;#d5c384ff&#x27;, &#x27;#d5c485ff&#x27;, &#x27;#d4c485ff&#x27;, &#x27;#d4c485ff&#x27;, &#x27;#d3c486ff&#x27;, &#x27;#d2c486ff&#x27;, &#x27;#d2c487ff&#x27;, &#x27;#d1c487ff&#x27;, &#x27;#d1c488ff&#x27;, &#x27;#d0c488ff&#x27;, &#x27;#d0c488ff&#x27;, &#x27;#cfc489ff&#x27;, &#x27;#cec489ff&#x27;, &#x27;#cec48aff&#x27;, &#x27;#cdc48aff&#x27;, &#x27;#cdc48aff&#x27;, &#x27;#ccc48bff&#x27;, &#x27;#cbc58bff&#x27;, &#x27;#cbc58cff&#x27;, &#x27;#cac58cff&#x27;, &#x27;#cac58cff&#x27;, &#x27;#c9c58dff&#x27;, &#x27;#c9c58dff&#x27;, &#x27;#c8c58eff&#x27;, &#x27;#c7c58eff&#x27;, &#x27;#c7c58fff&#x27;, &#x27;#c6c58fff&#x27;, &#x27;#c6c58fff&#x27;, &#x27;#c5c590ff&#x27;, &#x27;#c5c590ff&#x27;, &#x27;#c4c591ff&#x27;, &#x27;#c3c591ff&#x27;, &#x27;#c3c691ff&#x27;, &#x27;#c2c692ff&#x27;, &#x27;#c2c692ff&#x27;, &#x27;#c1c693ff&#x27;, &#x27;#c1c693ff&#x27;, &#x27;#c0c693ff&#x27;, &#x27;#bfc694ff&#x27;, &#x27;#bfc694ff&#x27;, &#x27;#bec695ff&#x27;, &#x27;#bec695ff&#x27;, &#x27;#bdc695ff&#x27;, &#x27;#bdc696ff&#x27;, &#x27;#bcc696ff&#x27;, &#x27;#bbc697ff&#x27;, &#x27;#bbc697ff&#x27;, &#x27;#bac798ff&#x27;, &#x27;#bac798ff&#x27;, &#x27;#b9c798ff&#x27;, &#x27;#b9c799ff&#x27;, &#x27;#b8c799ff&#x27;, &#x27;#b7c79aff&#x27;, &#x27;#b7c79aff&#x27;, &#x27;#b6c79aff&#x27;, &#x27;#b6c79bff&#x27;, &#x27;#b5c79bff&#x27;, &#x27;#b5c79cff&#x27;, &#x27;#b4c79cff&#x27;, &#x27;#b3c79cff&#x27;, &#x27;#b3c79dff&#x27;, &#x27;#b2c79dff&#x27;, &#x27;#b2c89eff&#x27;, &#x27;#b1c89eff&#x27;, &#x27;#b1c89fff&#x27;, &#x27;#b0c89fff&#x27;, &#x27;#afc89fff&#x27;, &#x27;#afc8a0ff&#x27;, &#x27;#aec8a0ff&#x27;, &#x27;#aec8a1ff&#x27;, &#x27;#adc8a1ff&#x27;, &#x27;#adc8a1ff&#x27;, &#x27;#acc8a2ff&#x27;, &#x27;#abc8a2ff&#x27;, &#x27;#abc8a3ff&#x27;, &#x27;#aac8a3ff&#x27;, &#x27;#aac8a3ff&#x27;, &#x27;#a9c9a4ff&#x27;, &#x27;#a9c9a4ff&#x27;, &#x27;#a8c9a5ff&#x27;, &#x27;#a7c9a5ff&#x27;, &#x27;#a7c9a5ff&#x27;, &#x27;#a6c9a6ff&#x27;, &#x27;#a6c9a6ff&#x27;, &#x27;#a5c9a7ff&#x27;, &#x27;#a5c9a7ff&#x27;, &#x27;#a4c9a8ff&#x27;, &#x27;#a3c9a8ff&#x27;, &#x27;#a3c9a8ff&#x27;, &#x27;#a2c9a9ff&#x27;, &#x27;#a2c9a9ff&#x27;, &#x27;#a1c9aaff&#x27;, &#x27;#a0caaaff&#x27;, &#x27;#a0caaaff&#x27;, &#x27;#9fcaabff&#x27;, &#x27;#9fcaabff&#x27;, &#x27;#9ecaacff&#x27;, &#x27;#9ecaacff&#x27;, &#x27;#9dcaacff&#x27;, &#x27;#9ccaadff&#x27;, &#x27;#9ccaadff&#x27;, &#x27;#9bcaaeff&#x27;, &#x27;#9bcaaeff&#x27;, &#x27;#9acaafff&#x27;, &#x27;#9acaafff&#x27;, &#x27;#99caafff&#x27;, &#x27;#98cab0ff&#x27;, &#x27;#98cbb0ff&#x27;, &#x27;#97cbb1ff&#x27;, &#x27;#97cbb1ff&#x27;, &#x27;#96cbb1ff&#x27;, &#x27;#96cbb2ff&#x27;, &#x27;#95cbb2ff&#x27;, &#x27;#94cbb3ff&#x27;, &#x27;#94cbb3ff&#x27;, &#x27;#93cbb3ff&#x27;, &#x27;#93cbb4ff&#x27;, &#x27;#92cbb4ff&#x27;, &#x27;#92cbb5ff&#x27;, &#x27;#91cbb5ff&#x27;, &#x27;#90cbb5ff&#x27;, &#x27;#90cbb6ff&#x27;, &#x27;#8fccb6ff&#x27;, &#x27;#8fccb7ff&#x27;, &#x27;#8eccb7ff&#x27;, &#x27;#8eccb8ff&#x27;, &#x27;#8dccb8ff&#x27;, &#x27;#8cccb8ff&#x27;, &#x27;#8cccb9ff&#x27;, &#x27;#8bccb9ff&#x27;, &#x27;#8bccbaff&#x27;, &#x27;#8accbaff&#x27;, &#x27;#8accbaff&#x27;, &#x27;#89ccbbff&#x27;, &#x27;#88ccbbff&#x27;, &#x27;#88ccbcff&#x27;, &#x27;#87ccbcff&#x27;, &#x27;#87cdbcff&#x27;, &#x27;#86cdbdff&#x27;, &#x27;#86cdbdff&#x27;, &#x27;#85cdbeff&#x27;, &#x27;#84cdbeff&#x27;, &#x27;#84cdbfff&#x27;, &#x27;#83cdbfff&#x27;, &#x27;#83cdbfff&#x27;, &#x27;#82cdc0ff&#x27;, &#x27;#82cdc0ff&#x27;, &#x27;#81cdc1ff&#x27;, &#x27;#80cdc1ff&#x27;, &#x27;#80cdc1ff&#x27;, &#x27;#7fcdc1ff&#x27;, &#x27;#7eccc0ff&#x27;, &#x27;#7dccc0ff&#x27;, &#x27;#7dcbbfff&#x27;, &#x27;#7ccbbfff&#x27;, &#x27;#7bcbbeff&#x27;, &#x27;#7acabeff&#x27;, &#x27;#7acabdff&#x27;, &#x27;#79c9bdff&#x27;, &#x27;#78c9bcff&#x27;, &#x27;#77c8bcff&#x27;, &#x27;#77c8bbff&#x27;, &#x27;#76c8bbff&#x27;, &#x27;#75c7baff&#x27;, &#x27;#74c7baff&#x27;, &#x27;#73c6b9ff&#x27;, &#x27;#73c6b9ff&#x27;, &#x27;#72c5b8ff&#x27;, &#x27;#71c5b8ff&#x27;, &#x27;#70c4b7ff&#x27;, &#x27;#70c4b7ff&#x27;, &#x27;#6fc4b6ff&#x27;, &#x27;#6ec3b6ff&#x27;, &#x27;#6dc3b6ff&#x27;, &#x27;#6dc2b5ff&#x27;, &#x27;#6cc2b5ff&#x27;, &#x27;#6bc1b4ff&#x27;, &#x27;#6ac1b4ff&#x27;, &#x27;#6ac1b3ff&#x27;, &#x27;#69c0b3ff&#x27;, &#x27;#68c0b2ff&#x27;, &#x27;#67bfb2ff&#x27;, &#x27;#66bfb1ff&#x27;, &#x27;#66beb1ff&#x27;, &#x27;#65beb0ff&#x27;, &#x27;#64beb0ff&#x27;, &#x27;#63bdafff&#x27;, &#x27;#63bdafff&#x27;, &#x27;#62bcaeff&#x27;, &#x27;#61bcaeff&#x27;, &#x27;#60bbadff&#x27;, &#x27;#60bbadff&#x27;, &#x27;#5fbaacff&#x27;, &#x27;#5ebaacff&#x27;, &#x27;#5dbaabff&#x27;, &#x27;#5cb9abff&#x27;, &#x27;#5cb9aaff&#x27;, &#x27;#5bb8aaff&#x27;, &#x27;#5ab8a9ff&#x27;, &#x27;#59b7a9ff&#x27;, &#x27;#59b7a8ff&#x27;, &#x27;#58b7a8ff&#x27;, &#x27;#57b6a8ff&#x27;, &#x27;#56b6a7ff&#x27;, &#x27;#56b5a7ff&#x27;, &#x27;#55b5a6ff&#x27;, &#x27;#54b4a6ff&#x27;, &#x27;#53b4a5ff&#x27;, &#x27;#53b4a5ff&#x27;, &#x27;#52b3a4ff&#x27;, &#x27;#51b3a4ff&#x27;, &#x27;#50b2a3ff&#x27;, &#x27;#4fb2a3ff&#x27;, &#x27;#4fb1a2ff&#x27;, &#x27;#4eb1a2ff&#x27;, &#x27;#4db0a1ff&#x27;, &#x27;#4cb0a1ff&#x27;, &#x27;#4cb0a0ff&#x27;, &#x27;#4bafa0ff&#x27;, &#x27;#4aaf9fff&#x27;, &#x27;#49ae9fff&#x27;, &#x27;#49ae9eff&#x27;, &#x27;#48ad9eff&#x27;, &#x27;#47ad9dff&#x27;, &#x27;#46ad9dff&#x27;, &#x27;#45ac9cff&#x27;, &#x27;#45ac9cff&#x27;, &#x27;#44ab9bff&#x27;, &#x27;#43ab9bff&#x27;, &#x27;#42aa9aff&#x27;, &#x27;#42aa9aff&#x27;, &#x27;#41aa9aff&#x27;, &#x27;#40a999ff&#x27;, &#x27;#3fa999ff&#x27;, &#x27;#3fa898ff&#x27;, &#x27;#3ea898ff&#x27;, &#x27;#3da797ff&#x27;, &#x27;#3ca797ff&#x27;, &#x27;#3ca696ff&#x27;, &#x27;#3ba696ff&#x27;, &#x27;#3aa695ff&#x27;, &#x27;#39a595ff&#x27;, &#x27;#38a594ff&#x27;, &#x27;#38a494ff&#x27;, &#x27;#37a493ff&#x27;, &#x27;#36a393ff&#x27;, &#x27;#35a392ff&#x27;, &#x27;#35a392ff&#x27;, &#x27;#34a291ff&#x27;, &#x27;#33a291ff&#x27;, &#x27;#32a190ff&#x27;, &#x27;#32a190ff&#x27;, &#x27;#31a08fff&#x27;, &#x27;#30a08fff&#x27;, &#x27;#2fa08eff&#x27;, &#x27;#2e9f8eff&#x27;, &#x27;#2e9f8dff&#x27;, &#x27;#2d9e8dff&#x27;, &#x27;#2c9e8cff&#x27;, &#x27;#2b9d8cff&#x27;, &#x27;#2b9d8bff&#x27;, &#x27;#2a9c8bff&#x27;, &#x27;#299c8bff&#x27;, &#x27;#289c8aff&#x27;, &#x27;#289b8aff&#x27;, &#x27;#279b89ff&#x27;, &#x27;#269a89ff&#x27;, &#x27;#259a88ff&#x27;, &#x27;#259988ff&#x27;, &#x27;#249987ff&#x27;, &#x27;#239987ff&#x27;, &#x27;#229886ff&#x27;, &#x27;#219886ff&#x27;, &#x27;#219785ff&#x27;, &#x27;#209785ff&#x27;, &#x27;#1f9684ff&#x27;, &#x27;#1e9684ff&#x27;, &#x27;#1e9683ff&#x27;, &#x27;#1d9583ff&#x27;, &#x27;#1c9582ff&#x27;, &#x27;#1b9482ff&#x27;, &#x27;#1b9481ff&#x27;, &#x27;#1a9381ff&#x27;, &#x27;#199380ff&#x27;, &#x27;#189280ff&#x27;, &#x27;#17927fff&#x27;, &#x27;#17927fff&#x27;, &#x27;#16917eff&#x27;, &#x27;#15917eff&#x27;, &#x27;#14907dff&#x27;, &#x27;#14907dff&#x27;, &#x27;#138f7dff&#x27;, &#x27;#128f7cff&#x27;, &#x27;#118f7cff&#x27;, &#x27;#118e7bff&#x27;, &#x27;#108e7bff&#x27;, &#x27;#0f8d7aff&#x27;, &#x27;#0e8d7aff&#x27;, &#x27;#0e8c79ff&#x27;, &#x27;#0d8c79ff&#x27;, &#x27;#0c8c78ff&#x27;, &#x27;#0b8b78ff&#x27;, &#x27;#0a8b77ff&#x27;, &#x27;#0a8a77ff&#x27;, &#x27;#098a76ff&#x27;, &#x27;#088976ff&#x27;, &#x27;#078975ff&#x27;, &#x27;#078875ff&#x27;, &#x27;#068874ff&#x27;, &#x27;#058874ff&#x27;, &#x27;#048773ff&#x27;, &#x27;#048773ff&#x27;, &#x27;#038672ff&#x27;, &#x27;#028672ff&#x27;, &#x27;#018571ff&#x27;, &#x27;#018571ff&#x27;]);\n",
              "    \n",
              "\n",
              "    color_map_f1b55193bc1cbcfbf31ae0f754926566.x = d3.scale.linear()\n",
              "              .domain([86.0, 14563.0])\n",
              "              .range([0, 450 - 50]);\n",
              "\n",
              "    color_map_f1b55193bc1cbcfbf31ae0f754926566.legend = L.control({position: &#x27;topright&#x27;});\n",
              "    color_map_f1b55193bc1cbcfbf31ae0f754926566.legend.onAdd = function (map) {var div = L.DomUtil.create(&#x27;div&#x27;, &#x27;legend&#x27;); return div};\n",
              "    color_map_f1b55193bc1cbcfbf31ae0f754926566.legend.addTo(map_a714315d3c21a4e252d28ab6d203065b);\n",
              "\n",
              "    color_map_f1b55193bc1cbcfbf31ae0f754926566.xAxis = d3.svg.axis()\n",
              "        .scale(color_map_f1b55193bc1cbcfbf31ae0f754926566.x)\n",
              "        .orient(&quot;top&quot;)\n",
              "        .tickSize(1)\n",
              "        .tickValues([86.0, 4911.666666666666, 9737.333333333332, 14563.0]);\n",
              "\n",
              "    color_map_f1b55193bc1cbcfbf31ae0f754926566.svg = d3.select(&quot;.legend.leaflet-control&quot;).append(&quot;svg&quot;)\n",
              "        .attr(&quot;id&quot;, &#x27;legend&#x27;)\n",
              "        .attr(&quot;width&quot;, 450)\n",
              "        .attr(&quot;height&quot;, 40);\n",
              "\n",
              "    color_map_f1b55193bc1cbcfbf31ae0f754926566.g = color_map_f1b55193bc1cbcfbf31ae0f754926566.svg.append(&quot;g&quot;)\n",
              "        .attr(&quot;class&quot;, &quot;key&quot;)\n",
              "        .attr(&quot;transform&quot;, &quot;translate(25,16)&quot;);\n",
              "\n",
              "    color_map_f1b55193bc1cbcfbf31ae0f754926566.g.selectAll(&quot;rect&quot;)\n",
              "        .data(color_map_f1b55193bc1cbcfbf31ae0f754926566.color.range().map(function(d, i) {\n",
              "          return {\n",
              "            x0: i ? color_map_f1b55193bc1cbcfbf31ae0f754926566.x(color_map_f1b55193bc1cbcfbf31ae0f754926566.color.domain()[i - 1]) : color_map_f1b55193bc1cbcfbf31ae0f754926566.x.range()[0],\n",
              "            x1: i &lt; color_map_f1b55193bc1cbcfbf31ae0f754926566.color.domain().length ? color_map_f1b55193bc1cbcfbf31ae0f754926566.x(color_map_f1b55193bc1cbcfbf31ae0f754926566.color.domain()[i]) : color_map_f1b55193bc1cbcfbf31ae0f754926566.x.range()[1],\n",
              "            z: d\n",
              "          };\n",
              "        }))\n",
              "      .enter().append(&quot;rect&quot;)\n",
              "        .attr(&quot;height&quot;, 40 - 30)\n",
              "        .attr(&quot;x&quot;, function(d) { return d.x0; })\n",
              "        .attr(&quot;width&quot;, function(d) { return d.x1 - d.x0; })\n",
              "        .style(&quot;fill&quot;, function(d) { return d.z; });\n",
              "\n",
              "    color_map_f1b55193bc1cbcfbf31ae0f754926566.g.call(color_map_f1b55193bc1cbcfbf31ae0f754926566.xAxis).append(&quot;text&quot;)\n",
              "        .attr(&quot;class&quot;, &quot;caption&quot;)\n",
              "        .attr(&quot;y&quot;, 21)\n",
              "        .text(&quot;Total de Vendas (R$)&quot;);\n",
              "    \n",
              "            var circle_marker_cd713183d8739769fc7bf0ac5bc4b36d = L.circleMarker(\n",
              "                [-4.22083, -38.7055],\n",
              "                {&quot;bubblingMouseEvents&quot;: true, &quot;color&quot;: &quot;#aa6821ff&quot;, &quot;dashArray&quot;: null, &quot;dashOffset&quot;: null, &quot;fill&quot;: true, &quot;fillColor&quot;: &quot;#aa6821ff&quot;, &quot;fillOpacity&quot;: 0.2, &quot;fillRule&quot;: &quot;evenodd&quot;, &quot;lineCap&quot;: &quot;round&quot;, &quot;lineJoin&quot;: &quot;round&quot;, &quot;opacity&quot;: 1.0, &quot;radius&quot;: 10, &quot;stroke&quot;: true, &quot;weight&quot;: 3}\n",
              "            ).addTo(map_a714315d3c21a4e252d28ab6d203065b);\n",
              "        \n",
              "    \n",
              "        var popup_fdf17ac774bc73356db22c925cec3cf8 = L.popup({&quot;maxWidth&quot;: &quot;100%&quot;});\n",
              "\n",
              "        \n",
              "            \n",
              "                var html_2e08efcff771135179f3e0b6e3cf3ec0 = $(`&lt;div id=&quot;html_2e08efcff771135179f3e0b6e3cf3ec0&quot; style=&quot;width: 100.0%; height: 100.0%;&quot;&gt;Acarape&lt;br&gt;Total de Vendas: R$445.00&lt;/div&gt;`)[0];\n",
              "                popup_fdf17ac774bc73356db22c925cec3cf8.setContent(html_2e08efcff771135179f3e0b6e3cf3ec0);\n",
              "            \n",
              "        \n",
              "\n",
              "        circle_marker_cd713183d8739769fc7bf0ac5bc4b36d.bindPopup(popup_fdf17ac774bc73356db22c925cec3cf8)\n",
              "        ;\n",
              "\n",
              "        \n",
              "    \n",
              "    \n",
              "            var circle_marker_046fe98eb383a2fcb396934ddbe212ef = L.circleMarker(\n",
              "                [-4.32547, -38.884],\n",
              "                {&quot;bubblingMouseEvents&quot;: true, &quot;color&quot;: &quot;#b77e37ff&quot;, &quot;dashArray&quot;: null, &quot;dashOffset&quot;: null, &quot;fill&quot;: true, &quot;fillColor&quot;: &quot;#b77e37ff&quot;, &quot;fillOpacity&quot;: 0.2, &quot;fillRule&quot;: &quot;evenodd&quot;, &quot;lineCap&quot;: &quot;round&quot;, &quot;lineJoin&quot;: &quot;round&quot;, &quot;opacity&quot;: 1.0, &quot;radius&quot;: 10, &quot;stroke&quot;: true, &quot;weight&quot;: 3}\n",
              "            ).addTo(map_a714315d3c21a4e252d28ab6d203065b);\n",
              "        \n",
              "    \n",
              "        var popup_00010e462c89bcd96db1ea49fb670028 = L.popup({&quot;maxWidth&quot;: &quot;100%&quot;});\n",
              "\n",
              "        \n",
              "            \n",
              "                var html_5a5ae31568415795dea967040e92c272 = $(`&lt;div id=&quot;html_5a5ae31568415795dea967040e92c272&quot; style=&quot;width: 100.0%; height: 100.0%;&quot;&gt;Baturité&lt;br&gt;Total de Vendas: R$1532.00&lt;/div&gt;`)[0];\n",
              "                popup_00010e462c89bcd96db1ea49fb670028.setContent(html_5a5ae31568415795dea967040e92c272);\n",
              "            \n",
              "        \n",
              "\n",
              "        circle_marker_046fe98eb383a2fcb396934ddbe212ef.bindPopup(popup_00010e462c89bcd96db1ea49fb670028)\n",
              "        ;\n",
              "\n",
              "        \n",
              "    \n",
              "    \n",
              "            var circle_marker_d695eeff2812863a33521c27f1543ce6 = L.circleMarker(\n",
              "                [-4.35162, -39.3107],\n",
              "                {&quot;bubblingMouseEvents&quot;: true, &quot;color&quot;: &quot;#af7029ff&quot;, &quot;dashArray&quot;: null, &quot;dashOffset&quot;: null, &quot;fill&quot;: true, &quot;fillColor&quot;: &quot;#af7029ff&quot;, &quot;fillOpacity&quot;: 0.2, &quot;fillRule&quot;: &quot;evenodd&quot;, &quot;lineCap&quot;: &quot;round&quot;, &quot;lineJoin&quot;: &quot;round&quot;, &quot;opacity&quot;: 1.0, &quot;radius&quot;: 10, &quot;stroke&quot;: true, &quot;weight&quot;: 3}\n",
              "            ).addTo(map_a714315d3c21a4e252d28ab6d203065b);\n",
              "        \n",
              "    \n",
              "        var popup_bf5bc32e2bd3d3033393c7ca9a113e95 = L.popup({&quot;maxWidth&quot;: &quot;100%&quot;});\n",
              "\n",
              "        \n",
              "            \n",
              "                var html_67ba895b7c5ca0610c5a62c03ff214b5 = $(`&lt;div id=&quot;html_67ba895b7c5ca0610c5a62c03ff214b5&quot; style=&quot;width: 100.0%; height: 100.0%;&quot;&gt;Canindé&lt;br&gt;Total de Vendas: R$817.00&lt;/div&gt;`)[0];\n",
              "                popup_bf5bc32e2bd3d3033393c7ca9a113e95.setContent(html_67ba895b7c5ca0610c5a62c03ff214b5);\n",
              "            \n",
              "        \n",
              "\n",
              "        circle_marker_d695eeff2812863a33521c27f1543ce6.bindPopup(popup_bf5bc32e2bd3d3033393c7ca9a113e95)\n",
              "        ;\n",
              "\n",
              "        \n",
              "    \n",
              "    \n",
              "            var circle_marker_2ba5afec9032f541ba760f8a392e4862 = L.circleMarker(\n",
              "                [-3.71722, -38.5434],\n",
              "                {&quot;bubblingMouseEvents&quot;: true, &quot;color&quot;: &quot;#018571ff&quot;, &quot;dashArray&quot;: null, &quot;dashOffset&quot;: null, &quot;fill&quot;: true, &quot;fillColor&quot;: &quot;#018571ff&quot;, &quot;fillOpacity&quot;: 0.2, &quot;fillRule&quot;: &quot;evenodd&quot;, &quot;lineCap&quot;: &quot;round&quot;, &quot;lineJoin&quot;: &quot;round&quot;, &quot;opacity&quot;: 1.0, &quot;radius&quot;: 10, &quot;stroke&quot;: true, &quot;weight&quot;: 3}\n",
              "            ).addTo(map_a714315d3c21a4e252d28ab6d203065b);\n",
              "        \n",
              "    \n",
              "        var popup_d1b9c2ef51dc2ad21d25ed4a15254b83 = L.popup({&quot;maxWidth&quot;: &quot;100%&quot;});\n",
              "\n",
              "        \n",
              "            \n",
              "                var html_2e6a6d705eb03fb4a4a2c55584af26fe = $(`&lt;div id=&quot;html_2e6a6d705eb03fb4a4a2c55584af26fe&quot; style=&quot;width: 100.0%; height: 100.0%;&quot;&gt;Fortaleza&lt;br&gt;Total de Vendas: R$14563.00&lt;/div&gt;`)[0];\n",
              "                popup_d1b9c2ef51dc2ad21d25ed4a15254b83.setContent(html_2e6a6d705eb03fb4a4a2c55584af26fe);\n",
              "            \n",
              "        \n",
              "\n",
              "        circle_marker_2ba5afec9032f541ba760f8a392e4862.bindPopup(popup_d1b9c2ef51dc2ad21d25ed4a15254b83)\n",
              "        ;\n",
              "\n",
              "        \n",
              "    \n",
              "    \n",
              "            var circle_marker_ce633491097e188b8cae4c25c7fa062c = L.circleMarker(\n",
              "                [-4.04057, -38.6401],\n",
              "                {&quot;bubblingMouseEvents&quot;: true, &quot;color&quot;: &quot;#a9661fff&quot;, &quot;dashArray&quot;: null, &quot;dashOffset&quot;: null, &quot;fill&quot;: true, &quot;fillColor&quot;: &quot;#a9661fff&quot;, &quot;fillOpacity&quot;: 0.2, &quot;fillRule&quot;: &quot;evenodd&quot;, &quot;lineCap&quot;: &quot;round&quot;, &quot;lineJoin&quot;: &quot;round&quot;, &quot;opacity&quot;: 1.0, &quot;radius&quot;: 10, &quot;stroke&quot;: true, &quot;weight&quot;: 3}\n",
              "            ).addTo(map_a714315d3c21a4e252d28ab6d203065b);\n",
              "        \n",
              "    \n",
              "        var popup_0ca6c591a247c491914ad98ace9d35f8 = L.popup({&quot;maxWidth&quot;: &quot;100%&quot;});\n",
              "\n",
              "        \n",
              "            \n",
              "                var html_a816061c671c45dd3a850affe9d74356 = $(`&lt;div id=&quot;html_a816061c671c45dd3a850affe9d74356&quot; style=&quot;width: 100.0%; height: 100.0%;&quot;&gt;Guaiúba&lt;br&gt;Total de Vendas: R$356.00&lt;/div&gt;`)[0];\n",
              "                popup_0ca6c591a247c491914ad98ace9d35f8.setContent(html_a816061c671c45dd3a850affe9d74356);\n",
              "            \n",
              "        \n",
              "\n",
              "        circle_marker_ce633491097e188b8cae4c25c7fa062c.bindPopup(popup_0ca6c591a247c491914ad98ace9d35f8)\n",
              "        ;\n",
              "\n",
              "        \n",
              "    \n",
              "    \n",
              "            var circle_marker_bdce11a8cf55854fece6078e7ee36f9a = L.circleMarker(\n",
              "                [-3.49933, -39.5839],\n",
              "                {&quot;bubblingMouseEvents&quot;: true, &quot;color&quot;: &quot;#a6611aff&quot;, &quot;dashArray&quot;: null, &quot;dashOffset&quot;: null, &quot;fill&quot;: true, &quot;fillColor&quot;: &quot;#a6611aff&quot;, &quot;fillOpacity&quot;: 0.2, &quot;fillRule&quot;: &quot;evenodd&quot;, &quot;lineCap&quot;: &quot;round&quot;, &quot;lineJoin&quot;: &quot;round&quot;, &quot;opacity&quot;: 1.0, &quot;radius&quot;: 10, &quot;stroke&quot;: true, &quot;weight&quot;: 3}\n",
              "            ).addTo(map_a714315d3c21a4e252d28ab6d203065b);\n",
              "        \n",
              "    \n",
              "        var popup_ce0b82f5d97b0da6994ae424f8fdb067 = L.popup({&quot;maxWidth&quot;: &quot;100%&quot;});\n",
              "\n",
              "        \n",
              "            \n",
              "                var html_5116f08427dd6271be6d7fedba2d165b = $(`&lt;div id=&quot;html_5116f08427dd6271be6d7fedba2d165b&quot; style=&quot;width: 100.0%; height: 100.0%;&quot;&gt;Itapipoca&lt;br&gt;Total de Vendas: R$86.00&lt;/div&gt;`)[0];\n",
              "                popup_ce0b82f5d97b0da6994ae424f8fdb067.setContent(html_5116f08427dd6271be6d7fedba2d165b);\n",
              "            \n",
              "        \n",
              "\n",
              "        circle_marker_bdce11a8cf55854fece6078e7ee36f9a.bindPopup(popup_ce0b82f5d97b0da6994ae424f8fdb067)\n",
              "        ;\n",
              "\n",
              "        \n",
              "    \n",
              "    \n",
              "            var circle_marker_852500ef38b31be193efd68713fca7e2 = L.circleMarker(\n",
              "                [-5.90212, -38.622],\n",
              "                {&quot;bubblingMouseEvents&quot;: true, &quot;color&quot;: &quot;#ae6e27ff&quot;, &quot;dashArray&quot;: null, &quot;dashOffset&quot;: null, &quot;fill&quot;: true, &quot;fillColor&quot;: &quot;#ae6e27ff&quot;, &quot;fillOpacity&quot;: 0.2, &quot;fillRule&quot;: &quot;evenodd&quot;, &quot;lineCap&quot;: &quot;round&quot;, &quot;lineJoin&quot;: &quot;round&quot;, &quot;opacity&quot;: 1.0, &quot;radius&quot;: 10, &quot;stroke&quot;: true, &quot;weight&quot;: 3}\n",
              "            ).addTo(map_a714315d3c21a4e252d28ab6d203065b);\n",
              "        \n",
              "    \n",
              "        var popup_bbe94e0e4fb33727ee99cab572ee9ab3 = L.popup({&quot;maxWidth&quot;: &quot;100%&quot;});\n",
              "\n",
              "        \n",
              "            \n",
              "                var html_00ac897215d26e3c7baed39c40ef3138 = $(`&lt;div id=&quot;html_00ac897215d26e3c7baed39c40ef3138&quot; style=&quot;width: 100.0%; height: 100.0%;&quot;&gt;Jaguaribe&lt;br&gt;Total de Vendas: R$738.00&lt;/div&gt;`)[0];\n",
              "                popup_bbe94e0e4fb33727ee99cab572ee9ab3.setContent(html_00ac897215d26e3c7baed39c40ef3138);\n",
              "            \n",
              "        \n",
              "\n",
              "        circle_marker_852500ef38b31be193efd68713fca7e2.bindPopup(popup_bbe94e0e4fb33727ee99cab572ee9ab3)\n",
              "        ;\n",
              "\n",
              "        \n",
              "    \n",
              "    \n",
              "            var circle_marker_680273369d6c29698ef30df67b47aefe = L.circleMarker(\n",
              "                [-3.89143, -38.6829],\n",
              "                {&quot;bubblingMouseEvents&quot;: true, &quot;color&quot;: &quot;#d5b16bff&quot;, &quot;dashArray&quot;: null, &quot;dashOffset&quot;: null, &quot;fill&quot;: true, &quot;fillColor&quot;: &quot;#d5b16bff&quot;, &quot;fillOpacity&quot;: 0.2, &quot;fillRule&quot;: &quot;evenodd&quot;, &quot;lineCap&quot;: &quot;round&quot;, &quot;lineJoin&quot;: &quot;round&quot;, &quot;opacity&quot;: 1.0, &quot;radius&quot;: 10, &quot;stroke&quot;: true, &quot;weight&quot;: 3}\n",
              "            ).addTo(map_a714315d3c21a4e252d28ab6d203065b);\n",
              "        \n",
              "    \n",
              "        var popup_87ccbb7a93b9deb1d337569ee7706239 = L.popup({&quot;maxWidth&quot;: &quot;100%&quot;});\n",
              "\n",
              "        \n",
              "            \n",
              "                var html_72d8111f10e05da998d3d3731202fc9a = $(`&lt;div id=&quot;html_72d8111f10e05da998d3d3731202fc9a&quot; style=&quot;width: 100.0%; height: 100.0%;&quot;&gt;Maranguape&lt;br&gt;Total de Vendas: R$4044.00&lt;/div&gt;`)[0];\n",
              "                popup_87ccbb7a93b9deb1d337569ee7706239.setContent(html_72d8111f10e05da998d3d3731202fc9a);\n",
              "            \n",
              "        \n",
              "\n",
              "        circle_marker_680273369d6c29698ef30df67b47aefe.bindPopup(popup_87ccbb7a93b9deb1d337569ee7706239)\n",
              "        ;\n",
              "\n",
              "        \n",
              "    \n",
              "    \n",
              "            var circle_marker_8a3625d97a9e406bd312936abd9d76b6 = L.circleMarker(\n",
              "                [-4.01507, -38.3065],\n",
              "                {&quot;bubblingMouseEvents&quot;: true, &quot;color&quot;: &quot;#a9661fff&quot;, &quot;dashArray&quot;: null, &quot;dashOffset&quot;: null, &quot;fill&quot;: true, &quot;fillColor&quot;: &quot;#a9661fff&quot;, &quot;fillOpacity&quot;: 0.2, &quot;fillRule&quot;: &quot;evenodd&quot;, &quot;lineCap&quot;: &quot;round&quot;, &quot;lineJoin&quot;: &quot;round&quot;, &quot;opacity&quot;: 1.0, &quot;radius&quot;: 10, &quot;stroke&quot;: true, &quot;weight&quot;: 3}\n",
              "            ).addTo(map_a714315d3c21a4e252d28ab6d203065b);\n",
              "        \n",
              "    \n",
              "        var popup_0f86a762b4f104e4165531428882dd74 = L.popup({&quot;maxWidth&quot;: &quot;100%&quot;});\n",
              "\n",
              "        \n",
              "            \n",
              "                var html_cf9b576385442b086a01178398d5eb53 = $(`&lt;div id=&quot;html_cf9b576385442b086a01178398d5eb53&quot; style=&quot;width: 100.0%; height: 100.0%;&quot;&gt;Pindoretama&lt;br&gt;Total de Vendas: R$356.00&lt;/div&gt;`)[0];\n",
              "                popup_0f86a762b4f104e4165531428882dd74.setContent(html_cf9b576385442b086a01178398d5eb53);\n",
              "            \n",
              "        \n",
              "\n",
              "        circle_marker_8a3625d97a9e406bd312936abd9d76b6.bindPopup(popup_0f86a762b4f104e4165531428882dd74)\n",
              "        ;\n",
              "\n",
              "        \n",
              "    \n",
              "&lt;/script&gt;\n",
              "&lt;/html&gt;\" style=\"position:absolute;width:100%;height:100%;left:0;top:0;border:none !important;\" allowfullscreen webkitallowfullscreen mozallowfullscreen></iframe></div></div>"
            ]
          },
          "metadata": {},
          "execution_count": 116
        }
      ]
    },
    {
      "cell_type": "code",
      "source": [
        "# Função para criar um gráfico de barras\n",
        "def create_bar_chart(dados):\n",
        "    # Agrupar por cidade e calcular a soma dos valores de vendas\n",
        "    grouped_data = dados.groupby('Cidade').agg({\n",
        "        'vlr_total_JAN': 'sum'\n",
        "    }).reset_index()\n",
        "\n",
        "    # Filtrar dados com valores de vendas maiores que 0\n",
        "    grouped_data = grouped_data[grouped_data['vlr_total_JAN'] > 0]\n",
        "\n",
        "    # Ordenar os dados por valor de vendas\n",
        "    grouped_data = grouped_data.sort_values(by='vlr_total_JAN', ascending=False)\n",
        "\n",
        "    # Plotar o gráfico de barras\n",
        "    plt.figure(figsize=(10, 8))\n",
        "    plt.bar(grouped_data['Cidade'], grouped_data['vlr_total_JAN'], color='skyblue')\n",
        "    plt.xlabel('Cidade')\n",
        "    plt.ylabel('Total de Vendas (R$)')\n",
        "    plt.title('Total de Vendas por Cidade em Janeiro de 2024')\n",
        "    plt.xticks(rotation=90)\n",
        "    plt.show()\n"
      ],
      "metadata": {
        "id": "Mr18qCDHMLE5"
      },
      "execution_count": 119,
      "outputs": []
    },
    {
      "cell_type": "code",
      "source": [
        "# Criar e exibir o gráfico de barras\n",
        "create_bar_chart(dados_combinados)"
      ],
      "metadata": {
        "colab": {
          "base_uri": "https://localhost:8080/",
          "height": 792
        },
        "id": "OtjcPEEtOBlC",
        "outputId": "ab6630da-f83a-4d68-cca2-e6f6990cda08"
      },
      "execution_count": 120,
      "outputs": [
        {
          "output_type": "display_data",
          "data": {
            "text/plain": [
              "<Figure size 1000x800 with 1 Axes>"
            ],
            "image/png": "[encoded data removed]"
          },
          "metadata": {}
        }
      ]
    }
  ]
}